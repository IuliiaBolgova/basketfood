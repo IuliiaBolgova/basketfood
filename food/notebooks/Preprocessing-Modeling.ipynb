{
 "cells": [
  {
   "cell_type": "markdown",
   "id": "56b76a12",
   "metadata": {},
   "source": [
    "# Capstone Project - Smart Basket for Automatic Product Classification and Counting\n",
    "\n",
    "\n",
    "___\n",
    "\n",
    "\n",
    "\n",
    "\n",
    "**Problem Statement:**\n",
    "\n",
    "In supermarkets and grocery stores, the process of identifying and counting products often requires manual input, which can be slow and prone to errors. This inefficiency can lead to longer checkout times and inaccurate pricing, which negatively impacts both customer experience and store operations. Developing a \"smart basket\" that automatically recognizes products based on images can significantly speed up the shopping process.\n",
    "\n",
    "**Context:**\n",
    "\n",
    "As the retail industry increasingly moves towards automation and efficiency, there is a growing need for smart solutions that can streamline the shopping experience. A smart basket that uses image processing to identify and count products can reduce the need for manual scanning and entry, making the checkout process faster and more accurate. This project aims to bridge this gap by leveraging image processing techniques to develop a model capable of classifying and counting products in real-time.\n",
    "\n",
    "**Data Sources:**\n",
    "\n",
    "Primary Dataset: Fruits-360 dataset https://www.kaggle.com/moltean/fruits containing over 70,000 images of 120 types of fruits and vegetables. This dataset will be used to train and validate the image classification model.\n",
    "\n"
   ]
  },
  {
   "cell_type": "markdown",
   "id": "e4848094",
   "metadata": {},
   "source": [
    "## 1 Data Loading"
   ]
  },
  {
   "cell_type": "markdown",
   "id": "2fe35525",
   "metadata": {},
   "source": [
    "Download the necessary libraries for working with archives, file system and data analysis"
   ]
  },
  {
   "cell_type": "code",
   "execution_count": 146,
   "id": "b04bdc7c",
   "metadata": {},
   "outputs": [],
   "source": [
    "import matplotlib.pyplot as plt\n",
    "import seaborn as sns\n",
    "import pandas as pd\n",
    "import numpy as np\n",
    "import ast\n",
    "\n",
    "import tensorflow as tf\n",
    "from sklearn.preprocessing import LabelEncoder\n",
    "from tensorflow.keras.utils import to_categorical"
   ]
  },
  {
   "cell_type": "code",
   "execution_count": 147,
   "id": "f7b7154b",
   "metadata": {},
   "outputs": [],
   "source": [
    "%matplotlib inline"
   ]
  },
  {
   "cell_type": "code",
   "execution_count": 148,
   "id": "97234f98",
   "metadata": {},
   "outputs": [
    {
     "data": {
      "text/html": [
       "<div>\n",
       "<style scoped>\n",
       "    .dataframe tbody tr th:only-of-type {\n",
       "        vertical-align: middle;\n",
       "    }\n",
       "\n",
       "    .dataframe tbody tr th {\n",
       "        vertical-align: top;\n",
       "    }\n",
       "\n",
       "    .dataframe thead th {\n",
       "        text-align: right;\n",
       "    }\n",
       "</style>\n",
       "<table border=\"1\" class=\"dataframe\">\n",
       "  <thead>\n",
       "    <tr style=\"text-align: right;\">\n",
       "      <th></th>\n",
       "      <th>label</th>\n",
       "      <th>image_path</th>\n",
       "      <th>brightness</th>\n",
       "      <th>image_size</th>\n",
       "      <th>processed_image</th>\n",
       "    </tr>\n",
       "  </thead>\n",
       "  <tbody>\n",
       "    <tr>\n",
       "      <th>0</th>\n",
       "      <td>cucumber_3</td>\n",
       "      <td>../data/raw/fruits-360/fruits-360/fruits-360-o...</td>\n",
       "      <td>146.202051</td>\n",
       "      <td>(100, 100)</td>\n",
       "      <td>[[255, 255, 255, 255, 255, 255, 255, 4, 38, 25...</td>\n",
       "    </tr>\n",
       "    <tr>\n",
       "      <th>1</th>\n",
       "      <td>apple_braeburn_1</td>\n",
       "      <td>../data/raw/fruits-360/fruits-360/fruits-360-o...</td>\n",
       "      <td>93.975101</td>\n",
       "      <td>(100, 100)</td>\n",
       "      <td>[[255, 255, 255, 255, 255, 255, 255, 255, 255,...</td>\n",
       "    </tr>\n",
       "    <tr>\n",
       "      <th>2</th>\n",
       "      <td>pear_1</td>\n",
       "      <td>../data/raw/fruits-360/fruits-360/fruits-360-o...</td>\n",
       "      <td>148.050868</td>\n",
       "      <td>(100, 100)</td>\n",
       "      <td>[[255, 255, 255, 255, 255, 255, 255, 255, 255,...</td>\n",
       "    </tr>\n",
       "    <tr>\n",
       "      <th>3</th>\n",
       "      <td>zucchini_1</td>\n",
       "      <td>../data/raw/fruits-360/fruits-360/fruits-360-o...</td>\n",
       "      <td>171.733518</td>\n",
       "      <td>(100, 100)</td>\n",
       "      <td>[[255, 255, 255, 255, 255, 255, 255, 255, 255,...</td>\n",
       "    </tr>\n",
       "    <tr>\n",
       "      <th>4</th>\n",
       "      <td>apple_golden_2</td>\n",
       "      <td>../data/raw/fruits-360/fruits-360/fruits-360-o...</td>\n",
       "      <td>185.297155</td>\n",
       "      <td>(100, 100)</td>\n",
       "      <td>[[255, 255, 255, 255, 255, 255, 255, 255, 255,...</td>\n",
       "    </tr>\n",
       "  </tbody>\n",
       "</table>\n",
       "</div>"
      ],
      "text/plain": [
       "              label                                         image_path  \\\n",
       "0        cucumber_3  ../data/raw/fruits-360/fruits-360/fruits-360-o...   \n",
       "1  apple_braeburn_1  ../data/raw/fruits-360/fruits-360/fruits-360-o...   \n",
       "2            pear_1  ../data/raw/fruits-360/fruits-360/fruits-360-o...   \n",
       "3        zucchini_1  ../data/raw/fruits-360/fruits-360/fruits-360-o...   \n",
       "4    apple_golden_2  ../data/raw/fruits-360/fruits-360/fruits-360-o...   \n",
       "\n",
       "   brightness  image_size                                    processed_image  \n",
       "0  146.202051  (100, 100)  [[255, 255, 255, 255, 255, 255, 255, 4, 38, 25...  \n",
       "1   93.975101  (100, 100)  [[255, 255, 255, 255, 255, 255, 255, 255, 255,...  \n",
       "2  148.050868  (100, 100)  [[255, 255, 255, 255, 255, 255, 255, 255, 255,...  \n",
       "3  171.733518  (100, 100)  [[255, 255, 255, 255, 255, 255, 255, 255, 255,...  \n",
       "4  185.297155  (100, 100)  [[255, 255, 255, 255, 255, 255, 255, 255, 255,...  "
      ]
     },
     "execution_count": 148,
     "metadata": {},
     "output_type": "execute_result"
    }
   ],
   "source": [
    "import pickle\n",
    "\n",
    "# Loading a global variable from a file\n",
    "with open('df_train.pkl', 'rb') as f:\n",
    "    my_global_df_train = pickle.load(f)\n",
    "\n",
    "# Checking the content\n",
    "my_global_df_train.head()\n"
   ]
  },
  {
   "cell_type": "code",
   "execution_count": 149,
   "id": "228fc101",
   "metadata": {},
   "outputs": [
    {
     "data": {
      "text/html": [
       "<div>\n",
       "<style scoped>\n",
       "    .dataframe tbody tr th:only-of-type {\n",
       "        vertical-align: middle;\n",
       "    }\n",
       "\n",
       "    .dataframe tbody tr th {\n",
       "        vertical-align: top;\n",
       "    }\n",
       "\n",
       "    .dataframe thead th {\n",
       "        text-align: right;\n",
       "    }\n",
       "</style>\n",
       "<table border=\"1\" class=\"dataframe\">\n",
       "  <thead>\n",
       "    <tr style=\"text-align: right;\">\n",
       "      <th></th>\n",
       "      <th>label</th>\n",
       "      <th>image_path</th>\n",
       "      <th>brightness</th>\n",
       "      <th>image_size</th>\n",
       "      <th>processed_image</th>\n",
       "    </tr>\n",
       "  </thead>\n",
       "  <tbody>\n",
       "    <tr>\n",
       "      <th>0</th>\n",
       "      <td>cucumber_3</td>\n",
       "      <td>../data/raw/fruits-360/fruits-360/fruits-360-o...</td>\n",
       "      <td>112.487951</td>\n",
       "      <td>(100, 100)</td>\n",
       "      <td>[[255, 255, 255, 255, 255, 255, 255, 255, 255,...</td>\n",
       "    </tr>\n",
       "    <tr>\n",
       "      <th>1</th>\n",
       "      <td>cucumber_3</td>\n",
       "      <td>../data/raw/fruits-360/fruits-360/fruits-360-o...</td>\n",
       "      <td>108.764763</td>\n",
       "      <td>(100, 100)</td>\n",
       "      <td>[[255, 255, 255, 255, 255, 255, 255, 255, 255,...</td>\n",
       "    </tr>\n",
       "    <tr>\n",
       "      <th>2</th>\n",
       "      <td>cucumber_3</td>\n",
       "      <td>../data/raw/fruits-360/fruits-360/fruits-360-o...</td>\n",
       "      <td>146.202051</td>\n",
       "      <td>(100, 100)</td>\n",
       "      <td>[[255, 255, 255, 255, 255, 255, 255, 4, 38, 25...</td>\n",
       "    </tr>\n",
       "    <tr>\n",
       "      <th>3</th>\n",
       "      <td>cucumber_3</td>\n",
       "      <td>../data/raw/fruits-360/fruits-360/fruits-360-o...</td>\n",
       "      <td>134.131658</td>\n",
       "      <td>(100, 100)</td>\n",
       "      <td>[[255, 255, 79, 0, 0, 167, 255, 255, 255, 255,...</td>\n",
       "    </tr>\n",
       "    <tr>\n",
       "      <th>4</th>\n",
       "      <td>cucumber_3</td>\n",
       "      <td>../data/raw/fruits-360/fruits-360/fruits-360-o...</td>\n",
       "      <td>96.214535</td>\n",
       "      <td>(100, 100)</td>\n",
       "      <td>[[255, 255, 255, 255, 255, 255, 255, 255, 255,...</td>\n",
       "    </tr>\n",
       "  </tbody>\n",
       "</table>\n",
       "</div>"
      ],
      "text/plain": [
       "        label                                         image_path  brightness  \\\n",
       "0  cucumber_3  ../data/raw/fruits-360/fruits-360/fruits-360-o...  112.487951   \n",
       "1  cucumber_3  ../data/raw/fruits-360/fruits-360/fruits-360-o...  108.764763   \n",
       "2  cucumber_3  ../data/raw/fruits-360/fruits-360/fruits-360-o...  146.202051   \n",
       "3  cucumber_3  ../data/raw/fruits-360/fruits-360/fruits-360-o...  134.131658   \n",
       "4  cucumber_3  ../data/raw/fruits-360/fruits-360/fruits-360-o...   96.214535   \n",
       "\n",
       "   image_size                                    processed_image  \n",
       "0  (100, 100)  [[255, 255, 255, 255, 255, 255, 255, 255, 255,...  \n",
       "1  (100, 100)  [[255, 255, 255, 255, 255, 255, 255, 255, 255,...  \n",
       "2  (100, 100)  [[255, 255, 255, 255, 255, 255, 255, 4, 38, 25...  \n",
       "3  (100, 100)  [[255, 255, 79, 0, 0, 167, 255, 255, 255, 255,...  \n",
       "4  (100, 100)  [[255, 255, 255, 255, 255, 255, 255, 255, 255,...  "
      ]
     },
     "execution_count": 149,
     "metadata": {},
     "output_type": "execute_result"
    }
   ],
   "source": [
    "# Loading a global variable from a file\n",
    "with open('df_test.pkl', 'rb') as f:\n",
    "    my_global_df_test = pickle.load(f)\n",
    "\n",
    "# Проверка содержимого\n",
    "my_global_df_test.head()"
   ]
  },
  {
   "cell_type": "code",
   "execution_count": 150,
   "id": "eb66d474",
   "metadata": {},
   "outputs": [],
   "source": [
    "df_train = my_global_df_train\n",
    "df_test = my_global_df_test"
   ]
  },
  {
   "cell_type": "code",
   "execution_count": 151,
   "id": "076a8b3c",
   "metadata": {},
   "outputs": [],
   "source": [
    "# Step 1: Extracting image and label data\n",
    "X_train = np.stack(df_train['processed_image'].values)\n",
    "y_train = df_train['label'].values\n",
    "X_test = np.stack(df_test['processed_image'].values)\n",
    "y_test = df_test['label'].values"
   ]
  },
  {
   "cell_type": "code",
   "execution_count": 152,
   "id": "4f7957f9",
   "metadata": {},
   "outputs": [
    {
     "name": "stdout",
     "output_type": "stream",
     "text": [
      "X_train: (9341, 100, 100)\n",
      "y_train: (9341,)\n",
      "X_test: (3110, 100, 100)\n",
      "y_test: (3110,)\n"
     ]
    }
   ],
   "source": [
    "# Checking the data form\n",
    "print(f\"X_train: {X_train.shape}\")\n",
    "print(f\"y_train: {y_train.shape}\")\n",
    "print(f\"X_test: {X_test.shape}\")\n",
    "print(f\"y_test: {y_test.shape}\")"
   ]
  },
  {
   "cell_type": "code",
   "execution_count": 153,
   "id": "043e2d30",
   "metadata": {},
   "outputs": [
    {
     "data": {
      "text/plain": [
       "<matplotlib.image.AxesImage at 0x374fd1610>"
      ]
     },
     "execution_count": 153,
     "metadata": {},
     "output_type": "execute_result"
    },
    {
     "data": {
      "image/png": "[encoded data removed]",
      "text/plain": [
       "<Figure size 640x480 with 1 Axes>"
      ]
     },
     "metadata": {},
     "output_type": "display_data"
    }
   ],
   "source": [
    "plt.imshow(X_train[250],cmap='gray')"
   ]
  },
  {
   "cell_type": "code",
   "execution_count": 154,
   "id": "f8cb59f0",
   "metadata": {},
   "outputs": [
    {
     "data": {
      "text/plain": [
       "'apple_crimson_snow_1'"
      ]
     },
     "execution_count": 154,
     "metadata": {},
     "output_type": "execute_result"
    }
   ],
   "source": [
    "y_train[250]"
   ]
  },
  {
   "cell_type": "markdown",
   "id": "561c5925",
   "metadata": {},
   "source": [
    "## Preprocessing the image data"
   ]
  },
  {
   "cell_type": "code",
   "execution_count": 160,
   "id": "552aeb63",
   "metadata": {},
   "outputs": [
    {
     "name": "stdout",
     "output_type": "stream",
     "text": [
      "(9341, 10000)\n",
      "(3110, 10000)\n"
     ]
    }
   ],
   "source": [
    "image_height, image_width = 100, 100\n",
    "\n",
    "# Data conversion\n",
    "X_train = X_train.reshape(9341, image_height * image_width)\n",
    "X_test = X_test.reshape(3110, image_height * image_width)\n",
    "\n",
    "# Checking the data form\n",
    "print(X_train.shape)\n",
    "print(X_test.shape)\n"
   ]
  },
  {
   "cell_type": "code",
   "execution_count": null,
   "id": "3b070e32",
   "metadata": {},
   "outputs": [],
   "source": []
  }
 ],
 "metadata": {
  "kernelspec": {
   "display_name": "Python 3 (ipykernel)",
   "language": "python",
   "name": "python3"
  },
  "language_info": {
   "codemirror_mode": {
    "name": "ipython",
    "version": 3
   },
   "file_extension": ".py",
   "mimetype": "text/x-python",
   "name": "python",
   "nbconvert_exporter": "python",
   "pygments_lexer": "ipython3",
   "version": "3.11.7"
  }
 },
 "nbformat": 4,
 "nbformat_minor": 5
}
